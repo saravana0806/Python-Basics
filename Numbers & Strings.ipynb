{
 "cells": [
  {
   "cell_type": "markdown",
   "id": "197c13f8",
   "metadata": {},
   "source": [
    "# Numbers "
   ]
  },
  {
   "cell_type": "code",
   "execution_count": 29,
   "id": "d5b85f8f",
   "metadata": {},
   "outputs": [],
   "source": [
    "x = 10\n",
    "y = -5\n",
    "z = 0"
   ]
  },
  {
   "cell_type": "code",
   "execution_count": 33,
   "id": "317e0c75",
   "metadata": {},
   "outputs": [
    {
     "data": {
      "text/plain": [
       "float"
      ]
     },
     "execution_count": 33,
     "metadata": {},
     "output_type": "execute_result"
    }
   ],
   "source": [
    "a = 3.14\n",
    "b = -0.5\n",
    "c = 2.5e-4  # Scientific notation (2.5 * 10^-4)\n",
    "type(a)\n"
   ]
  },
  {
   "cell_type": "code",
   "execution_count": 31,
   "id": "179fce34",
   "metadata": {},
   "outputs": [
    {
     "data": {
      "text/plain": [
       "complex"
      ]
     },
     "execution_count": 31,
     "metadata": {},
     "output_type": "execute_result"
    }
   ],
   "source": [
    "comp_num = 2 + 3j\n",
    "comp_num\n",
    "\n",
    "type(comp_num)"
   ]
  },
  {
   "cell_type": "code",
   "execution_count": 34,
   "id": "5a9a97b8",
   "metadata": {},
   "outputs": [
    {
     "data": {
      "text/plain": [
       "(3+4j)"
      ]
     },
     "execution_count": 34,
     "metadata": {},
     "output_type": "execute_result"
    }
   ],
   "source": [
    "a = 3\n",
    "b = 4\n",
    "complex_num = complex(a, b)  # Creates a complex number 3 + 4j\n",
    "complex_num"
   ]
  },
  {
   "cell_type": "code",
   "execution_count": 36,
   "id": "841b41fd",
   "metadata": {},
   "outputs": [
    {
     "data": {
      "text/plain": [
       "bool"
      ]
     },
     "execution_count": 36,
     "metadata": {},
     "output_type": "execute_result"
    }
   ],
   "source": [
    "is_true = True\n",
    "is_false = False\n",
    "\n",
    "type(is_true)"
   ]
  },
  {
   "cell_type": "code",
   "execution_count": 28,
   "id": "17133664",
   "metadata": {},
   "outputs": [],
   "source": [
    "# Functions"
   ]
  },
  {
   "cell_type": "code",
   "execution_count": 8,
   "id": "32bbc662",
   "metadata": {},
   "outputs": [
    {
     "data": {
      "text/plain": [
       "'abs(): Returns the absolute value of a number.\\nround(): Rounds a floating-point number to a specified number of decimal places.\\nmax(): Returns the largest item in an iterable or the largest of two or more arguments.\\nmin(): Returns the smallest item in an iterable or the smallest of two or more arguments.\\nsum(): Returns the sum of all items in an iterable.\\npow(): Raises a number to a specified power.\\ndivmod(): Returns the quotient and remainder of the division of two numbers.\\nint(): Converts a number or string to an integer.\\nfloat(): Converts a number or string to a floating-point number.\\ncomplex(): Converts a number or string to a complex number.'"
      ]
     },
     "execution_count": 8,
     "metadata": {},
     "output_type": "execute_result"
    }
   ],
   "source": [
    "'''abs(): Returns the absolute value of a number.\n",
    "round(): Rounds a floating-point number to a specified number of decimal places.\n",
    "max(): Returns the largest item in an iterable or the largest of two or more arguments.\n",
    "min(): Returns the smallest item in an iterable or the smallest of two or more arguments.\n",
    "sum(): Returns the sum of all items in an iterable.\n",
    "pow(): Raises a number to a specified power.\n",
    "divmod(): Returns the quotient and remainder of the division of two numbers.\n",
    "int(): Converts a number or string to an integer.\n",
    "float(): Converts a number or string to a floating-point number.\n",
    "complex(): Converts a number or string to a complex number.'''"
   ]
  },
  {
   "cell_type": "code",
   "execution_count": 49,
   "id": "92ff0e4f",
   "metadata": {},
   "outputs": [
    {
     "data": {
      "text/plain": [
       "'Equivalent to base**exp with 2 arguments or base**exp % mod with 3 arguments\\n\\nSome types, such as ints, are able to use a more efficient algorithm when\\ninvoked using the three argument form.'"
      ]
     },
     "execution_count": 49,
     "metadata": {},
     "output_type": "execute_result"
    }
   ],
   "source": [
    "pow.__doc__"
   ]
  },
  {
   "cell_type": "code",
   "execution_count": 50,
   "id": "cb088c64",
   "metadata": {},
   "outputs": [
    {
     "name": "stdout",
     "output_type": "stream",
     "text": [
      "Help on built-in function pow in module builtins:\n",
      "\n",
      "pow(base, exp, mod=None)\n",
      "    Equivalent to base**exp with 2 arguments or base**exp % mod with 3 arguments\n",
      "    \n",
      "    Some types, such as ints, are able to use a more efficient algorithm when\n",
      "    invoked using the three argument form.\n",
      "\n"
     ]
    }
   ],
   "source": [
    "help(pow)"
   ]
  },
  {
   "cell_type": "code",
   "execution_count": 39,
   "id": "e8540990",
   "metadata": {},
   "outputs": [
    {
     "name": "stdout",
     "output_type": "stream",
     "text": [
      "10\n"
     ]
    }
   ],
   "source": [
    "# Numeric functions\n",
    "num = -10\n",
    "print(abs(num))  # Output: 10"
   ]
  },
  {
   "cell_type": "code",
   "execution_count": 38,
   "id": "d6ec3d45",
   "metadata": {},
   "outputs": [
    {
     "name": "stdout",
     "output_type": "stream",
     "text": [
      "3.14\n"
     ]
    }
   ],
   "source": [
    "pi = 3.14159\n",
    "print(round(pi, 2))  # Output: 3.14"
   ]
  },
  {
   "cell_type": "code",
   "execution_count": 40,
   "id": "bd9e33bc",
   "metadata": {},
   "outputs": [
    {
     "name": "stdout",
     "output_type": "stream",
     "text": [
      "8\n"
     ]
    }
   ],
   "source": [
    "numbers = [2, 5, 8, 1]\n",
    "print(max(numbers))  # Output: 8"
   ]
  },
  {
   "cell_type": "code",
   "execution_count": 48,
   "id": "cdae1d1b",
   "metadata": {},
   "outputs": [
    {
     "name": "stdout",
     "output_type": "stream",
     "text": [
      "3.14\n",
      "3.14\n"
     ]
    }
   ],
   "source": [
    "print(str(3.14))  # Output: 3\n",
    "print(float(\"3.14\"))  # Output: 3.14"
   ]
  },
  {
   "cell_type": "code",
   "execution_count": 51,
   "id": "9bb08e37",
   "metadata": {},
   "outputs": [
    {
     "data": {
      "text/plain": [
       "\"Hexadecimal, Octal, Binary Notation:\\n\\nHexadecimal: Base-16 numbering system using digits 0-9 and letters A-F. Prefixed with '0x' or '0X'.\\nExample: 0xAF represents the decimal number 175.\\nOctal: Base-8 numbering system using digits 0-7. Prefixed with '0o' or '0O'.\\nExample: 0o23 represents the decimal number 19.\\nBinary: Base-2 numbering system using digits 0 and 1. Prefixed with '0b' or '0B'.\\nExample: 0b1010 represents the decimal number 10.\""
      ]
     },
     "execution_count": 51,
     "metadata": {},
     "output_type": "execute_result"
    }
   ],
   "source": [
    "'''Hexadecimal, Octal, Binary Notation:\n",
    "\n",
    "Hexadecimal: Base-16 numbering system using digits 0-9 and letters A-F. Prefixed with '0x' or '0X'.\n",
    "Example: 0xAF represents the decimal number 175.\n",
    "Octal: Base-8 numbering system using digits 0-7. Prefixed with '0o' or '0O'.\n",
    "Example: 0o23 represents the decimal number 19.\n",
    "Binary: Base-2 numbering system using digits 0 and 1. Prefixed with '0b' or '0B'.\n",
    "Example: 0b1010 represents the decimal number 10.'''"
   ]
  },
  {
   "cell_type": "markdown",
   "id": "5099cecc",
   "metadata": {},
   "source": [
    "# Random Numbers"
   ]
  },
  {
   "cell_type": "code",
   "execution_count": 141,
   "id": "164b6d57",
   "metadata": {},
   "outputs": [
    {
     "name": "stdout",
     "output_type": "stream",
     "text": [
      "Random Integer: 138\n",
      "Random Float: 0.5692038748222122\n"
     ]
    }
   ],
   "source": [
    "import random\n",
    "\n",
    "random.seed(1)\n",
    "random_int = random.randint(1, 1000)\n",
    "print(\"Random Integer:\", random_int)\n",
    "\n",
    "random_float = random.random()\n",
    "print(\"Random Float:\", random_float)"
   ]
  },
  {
   "cell_type": "code",
   "execution_count": 164,
   "id": "7cc2ef36",
   "metadata": {},
   "outputs": [
    {
     "name": "stdout",
     "output_type": "stream",
     "text": [
      "Shuffled List: [4, 5, 3, 2, 1]\n"
     ]
    }
   ],
   "source": [
    "import random\n",
    "\n",
    "my_list = [1, 2, 3, 4, 5]\n",
    "\n",
    "random.shuffle(my_list)\n",
    "print(\"Shuffled List:\", my_list)"
   ]
  },
  {
   "cell_type": "code",
   "execution_count": 224,
   "id": "27083e4c",
   "metadata": {},
   "outputs": [
    {
     "name": "stdout",
     "output_type": "stream",
     "text": [
      "Random Element: banana\n"
     ]
    }
   ],
   "source": [
    "import random\n",
    "\n",
    "my_list = [\"apple\", \"banana\", \"orange\", \"grape\", \"kiwi\"]\n",
    "\n",
    "random_element = random.choice(my_list)\n",
    "print(\"Random Element:\", random_element)"
   ]
  },
  {
   "cell_type": "code",
   "execution_count": 223,
   "id": "9e767c69",
   "metadata": {},
   "outputs": [
    {
     "name": "stdout",
     "output_type": "stream",
     "text": [
      "Random Sample: [3, 21, 26, 42, 73]\n"
     ]
    }
   ],
   "source": [
    "import random\n",
    "\n",
    "random_sample = random.sample(range(1, 101), 5)\n",
    "print(\"Random Sample:\", random_sample)"
   ]
  },
  {
   "cell_type": "code",
   "execution_count": 226,
   "id": "9fc27bf3",
   "metadata": {},
   "outputs": [
    {
     "name": "stdout",
     "output_type": "stream",
     "text": [
      "Randomly Chosen with Weights: ['red', 'green', 'blue', 'red', 'green']\n"
     ]
    }
   ],
   "source": [
    "import random\n",
    "\n",
    "choices = [\"red\", \"blue\", \"green\"]\n",
    "weights = [3, 2, 1]\n",
    "\n",
    "random_choice = random.choices(choices, weights=weights, k=5)\n",
    "print(\"Randomly Chosen with Weights:\", random_choice)\n"
   ]
  },
  {
   "cell_type": "markdown",
   "id": "ac9a0f8c",
   "metadata": {},
   "source": [
    "# String"
   ]
  },
  {
   "cell_type": "code",
   "execution_count": 228,
   "id": "ca0af8e1",
   "metadata": {},
   "outputs": [],
   "source": [
    "single_quoted_string = 'Hello, world!'"
   ]
  },
  {
   "cell_type": "code",
   "execution_count": 230,
   "id": "bb2fabc0",
   "metadata": {},
   "outputs": [
    {
     "ename": "SyntaxError",
     "evalue": "unterminated string literal (detected at line 1) (2673519427.py, line 1)",
     "output_type": "error",
     "traceback": [
      "\u001b[1;36m  Cell \u001b[1;32mIn[230], line 1\u001b[1;36m\u001b[0m\n\u001b[1;33m    double_quoted_string = \"Hello, world!'\u001b[0m\n\u001b[1;37m                           ^\u001b[0m\n\u001b[1;31mSyntaxError\u001b[0m\u001b[1;31m:\u001b[0m unterminated string literal (detected at line 1)\n"
     ]
    }
   ],
   "source": [
    "double_quoted_string = \"Hello, world!'"
   ]
  },
  {
   "cell_type": "code",
   "execution_count": 231,
   "id": "9f4b265e",
   "metadata": {},
   "outputs": [],
   "source": [
    "multi_line_string = \"\"\"This is a\n",
    "multi-line\n",
    "string.\"\"\""
   ]
  },
  {
   "cell_type": "code",
   "execution_count": 233,
   "id": "be2e8a8a",
   "metadata": {},
   "outputs": [
    {
     "data": {
      "text/plain": [
       "'Hello, world!'"
      ]
     },
     "execution_count": 233,
     "metadata": {},
     "output_type": "execute_result"
    }
   ],
   "source": [
    "concatenated_string = \"Hello, \" + \"world!\"\n",
    "concatenated_string"
   ]
  },
  {
   "cell_type": "code",
   "execution_count": null,
   "id": "001f805f",
   "metadata": {},
   "outputs": [],
   "source": [
    "r'/ \\ '"
   ]
  },
  {
   "cell_type": "code",
   "execution_count": 235,
   "id": "955dd2d4",
   "metadata": {},
   "outputs": [
    {
     "data": {
      "text/plain": [
       "'Hello, world'"
      ]
     },
     "execution_count": 235,
     "metadata": {},
     "output_type": "execute_result"
    }
   ],
   "source": [
    "formatted_string = \"Hello, {}\".format(\"world\")\n",
    "formatted_string"
   ]
  },
  {
   "cell_type": "code",
   "execution_count": 247,
   "id": "5ec07bf9",
   "metadata": {},
   "outputs": [
    {
     "data": {
      "text/plain": [
       "'llo'"
      ]
     },
     "execution_count": 247,
     "metadata": {},
     "output_type": "execute_result"
    }
   ],
   "source": [
    "my_string = \"Hello\"\n",
    "my_string[2:8]  # H\n",
    "#first_char"
   ]
  },
  {
   "cell_type": "code",
   "execution_count": 250,
   "id": "e589eb60",
   "metadata": {},
   "outputs": [],
   "source": [
    "my_string = \"Hello\"\n",
    "substring = my_string[1:4]  # ell"
   ]
  },
  {
   "cell_type": "code",
   "execution_count": 251,
   "id": "df16d516",
   "metadata": {},
   "outputs": [
    {
     "ename": "SyntaxError",
     "evalue": "(unicode error) 'unicodeescape' codec can't decode bytes in position 120-121: truncated \\uXXXX escape (2953680423.py, line 8)",
     "output_type": "error",
     "traceback": [
      "\u001b[1;36m  Cell \u001b[1;32mIn[251], line 8\u001b[1;36m\u001b[0m\n\u001b[1;33m    Bytes literals (prefixed with 'b') represent sequences of bytes rather than Unicode characters, useful for binary data'''\u001b[0m\n\u001b[1;37m                                                                                                                             ^\u001b[0m\n\u001b[1;31mSyntaxError\u001b[0m\u001b[1;31m:\u001b[0m (unicode error) 'unicodeescape' codec can't decode bytes in position 120-121: truncated \\uXXXX escape\n"
     ]
    }
   ],
   "source": [
    "'''Newline (\\n):\n",
    "Tab (\\t):\n",
    "Backslash (\\):\n",
    "Double Quote (\") and Single Quote ('):\n",
    "Carriage Return (\\r):\n",
    "Unicode Characters (\\u and \\U):\n",
    "Raw Strings (r'...') and Bytes Literal (b'...'):\n",
    "Bytes literals (prefixed with 'b') represent sequences of bytes rather than Unicode characters, useful for binary data'''"
   ]
  },
  {
   "cell_type": "code",
   "execution_count": 269,
   "id": "8284fa40",
   "metadata": {},
   "outputs": [
    {
     "name": "stdout",
     "output_type": "stream",
     "text": [
      "Hello,\n",
      "world!\n"
     ]
    }
   ],
   "source": [
    "print(\"Hello,\\nworld!\")"
   ]
  },
  {
   "cell_type": "code",
   "execution_count": 267,
   "id": "4ef8da05",
   "metadata": {},
   "outputs": [
    {
     "name": "stdout",
     "output_type": "stream",
     "text": [
      "Hello,\tworld!\n"
     ]
    }
   ],
   "source": [
    "print(\"Hello,\\tworld!\")"
   ]
  },
  {
   "cell_type": "code",
   "execution_count": 256,
   "id": "87176a35",
   "metadata": {},
   "outputs": [
    {
     "name": "stdout",
     "output_type": "stream",
     "text": [
      "Use two backslashes: \\\n"
     ]
    }
   ],
   "source": [
    "print(\"Use two backslashes: \\\\\")"
   ]
  },
  {
   "cell_type": "code",
   "execution_count": 265,
   "id": "1dba05bb",
   "metadata": {},
   "outputs": [
    {
     "name": "stdout",
     "output_type": "stream",
     "text": [
      "Use two backslashes: r\\r\n"
     ]
    }
   ],
   "source": [
    "print(\"Use two backslashes: r\\\\r\")"
   ]
  },
  {
   "cell_type": "code",
   "execution_count": 270,
   "id": "88065ae9",
   "metadata": {},
   "outputs": [
    {
     "data": {
      "text/plain": [
       "'She said, \"Hello!\"'"
      ]
     },
     "execution_count": 270,
     "metadata": {},
     "output_type": "execute_result"
    }
   ],
   "source": [
    "double_quote_string = \"She said, \\\"Hello!\\\"\"\n",
    "double_quote_string"
   ]
  },
  {
   "cell_type": "code",
   "execution_count": 274,
   "id": "4648cd4e",
   "metadata": {},
   "outputs": [
    {
     "data": {
      "text/plain": [
       "\"He's happy.\""
      ]
     },
     "execution_count": 274,
     "metadata": {},
     "output_type": "execute_result"
    }
   ],
   "source": [
    "single_quote_string = 'He\\'s happy.'\n",
    "single_quote_string"
   ]
  },
  {
   "cell_type": "code",
   "execution_count": 25,
   "id": "5e15f40d",
   "metadata": {},
   "outputs": [
    {
     "name": "stdout",
     "output_type": "stream",
     "text": [
      "Name:\tAlice\n",
      "Age:\t30\n",
      "Job:\tEngineer\n"
     ]
    }
   ],
   "source": [
    "print(\"Name:\\tAlice\\nAge:\\t30\\nJob:\\tEngineer\")"
   ]
  },
  {
   "cell_type": "code",
   "execution_count": 276,
   "id": "81ad9655",
   "metadata": {},
   "outputs": [
    {
     "name": "stdout",
     "output_type": "stream",
     "text": [
      "Lorem ipsum dolor sit amet,\n",
      "consectetur adipiscing elit.\n",
      "Nulla eget elit vitae tellus faucibus\n",
      "interdum non et ex.\n"
     ]
    }
   ],
   "source": [
    "multi_line_text = '''Lorem ipsum dolor sit amet,\n",
    "consectetur adipiscing elit.\n",
    "Nulla eget elit vitae tellus faucibus\n",
    "interdum non et ex.'''\n",
    "print(multi_line_text)"
   ]
  },
  {
   "cell_type": "code",
   "execution_count": 279,
   "id": "f8ba5f32",
   "metadata": {},
   "outputs": [
    {
     "name": "stdout",
     "output_type": "stream",
     "text": [
      "Alice\t30\tEngineer\n",
      "Bob\t35\tManager\n",
      "Charlie\t25\tDeveloper\n"
     ]
    }
   ],
   "source": [
    "data = [\n",
    "    (\"Alice\", 30, \"Engineer\"),\n",
    "    (\"Bob\", 35, \"Manager\"),\n",
    "    (\"Charlie\", 25, \"Developer\")\n",
    "]\n",
    "for name, age, job in data:\n",
    "    print(f\"{name}\\t{age}\\t{job}\")\n"
   ]
  },
  {
   "cell_type": "code",
   "execution_count": 278,
   "id": "a4a1fafb",
   "metadata": {},
   "outputs": [
    {
     "data": {
      "text/plain": [
       "tuple"
      ]
     },
     "execution_count": 278,
     "metadata": {},
     "output_type": "execute_result"
    }
   ],
   "source": [
    "type(data[0])"
   ]
  },
  {
   "cell_type": "code",
   "execution_count": null,
   "id": "ca12368d",
   "metadata": {},
   "outputs": [],
   "source": []
  },
  {
   "cell_type": "code",
   "execution_count": null,
   "id": "c6d95a8d",
   "metadata": {},
   "outputs": [],
   "source": []
  }
 ],
 "metadata": {
  "kernelspec": {
   "display_name": "Python 3 (ipykernel)",
   "language": "python",
   "name": "python3"
  },
  "language_info": {
   "codemirror_mode": {
    "name": "ipython",
    "version": 3
   },
   "file_extension": ".py",
   "mimetype": "text/x-python",
   "name": "python",
   "nbconvert_exporter": "python",
   "pygments_lexer": "ipython3",
   "version": "3.11.5"
  }
 },
 "nbformat": 4,
 "nbformat_minor": 5
}
